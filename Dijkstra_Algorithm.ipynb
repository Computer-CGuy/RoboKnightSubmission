{
  "nbformat": 4,
  "nbformat_minor": 0,
  "metadata": {
    "colab": {
      "name": "Dijkstra Algorithm.ipynb",
      "provenance": [],
      "authorship_tag": "ABX9TyNXhEiKKNnLWpSSS89/ANyY",
      "include_colab_link": true
    },
    "kernelspec": {
      "name": "python3",
      "display_name": "Python 3"
    }
  },
  "cells": [
    {
      "cell_type": "markdown",
      "metadata": {
        "id": "view-in-github",
        "colab_type": "text"
      },
      "source": [
        "<a href=\"https://colab.research.google.com/github/Computer-CGuy/RoboKnightSubmission/blob/master/Dijkstra_Algorithm.ipynb\" target=\"_parent\"><img src=\"https://colab.research.google.com/assets/colab-badge.svg\" alt=\"Open In Colab\"/></a>"
      ]
    },
    {
      "cell_type": "code",
      "metadata": {
        "id": "5k-iXh7pJg9W",
        "colab_type": "code",
        "colab": {}
      },
      "source": [
        "import numpy as np"
      ],
      "execution_count": null,
      "outputs": []
    },
    {
      "cell_type": "code",
      "metadata": {
        "id": "XqRc4SRrJM4s",
        "colab_type": "code",
        "colab": {}
      },
      "source": [
        "path = np.zeros((7,7)) "
      ],
      "execution_count": null,
      "outputs": []
    },
    {
      "cell_type": "code",
      "metadata": {
        "id": "8LpQxCX5JohN",
        "colab_type": "code",
        "colab": {}
      },
      "source": [
        "A,B,C,D,E,F,G = 0,1,2,3,4,5,6"
      ],
      "execution_count": null,
      "outputs": []
    },
    {
      "cell_type": "code",
      "metadata": {
        "id": "Jho-fZz4JesV",
        "colab_type": "code",
        "colab": {}
      },
      "source": [
        "path[A,C]=2\n",
        "path[A,D]=1\n",
        "path[B,A]=2\n",
        "path[C,D]=1\n",
        "path[C,F]=2\n",
        "path[D,B]=5\n",
        "path[D,E]=1\n",
        "path[D,G]=5\n",
        "path[D,F]=6\n",
        "path[E,B]=1\n",
        "path[F,G]=10\n",
        "path[G,E]=3"
      ],
      "execution_count": null,
      "outputs": []
    },
    {
      "cell_type": "code",
      "metadata": {
        "id": "dv4nI3YzKjpj",
        "colab_type": "code",
        "colab": {}
      },
      "source": [
        "min = np.zeros((7,7))\n",
        "min[:]=9999"
      ],
      "execution_count": null,
      "outputs": []
    },
    {
      "cell_type": "code",
      "metadata": {
        "id": "8YzI1TrKKa4Q",
        "colab_type": "code",
        "colab": {}
      },
      "source": [
        "min = np.zeros((7,7))\n",
        "min[:]=9999\n",
        "best = {}\n",
        "def solve(x,l,sum,a):\n",
        "    global min\n",
        "    if(sum<min[x,l[0]]):\n",
        "        min[x,l[0]]=sum\n",
        "        best[str(x)] = l\n",
        "    else:\n",
        "        # print(l)\n",
        "        return\n",
        "    for y in range(7):\n",
        "        if(path[x,y]):\n",
        "            solve(y,l+[y],sum+path[x,y],sum)"
      ],
      "execution_count": null,
      "outputs": []
    },
    {
      "cell_type": "code",
      "metadata": {
        "id": "FyNDseSYME--",
        "colab_type": "code",
        "colab": {}
      },
      "source": [
        "solve(0,[0],0,0)"
      ],
      "execution_count": null,
      "outputs": []
    },
    {
      "cell_type": "code",
      "metadata": {
        "id": "S5SAwJt5MVnq",
        "colab_type": "code",
        "colab": {
          "base_uri": "https://localhost:8080/",
          "height": 136
        },
        "outputId": "270eb082-8bec-4f10-fd17-4cc7e8efca40"
      },
      "source": [
        "for x in best:\n",
        "    for y in best[(x)]:\n",
        "        t = \"A\"\n",
        "        if(y==1):\n",
        "            t=\"B\"\n",
        "        if(y==2):\n",
        "            t=\"C\"\n",
        "        if(y==3):\n",
        "            t=\"D\"\n",
        "        if(y==4):\n",
        "            t=\"E\"\n",
        "        if(y==5):\n",
        "            t=\"F\"\n",
        "        if(y==6):\n",
        "            t=\"G\"\n",
        "        print(t,end=\",\")\n",
        "    print()"
      ],
      "execution_count": null,
      "outputs": [
        {
          "output_type": "stream",
          "text": [
            "A,\n",
            "A,C,\n",
            "A,D,\n",
            "A,D,E,B,\n",
            "A,D,E,\n",
            "A,C,F,\n",
            "A,D,G,\n"
          ],
          "name": "stdout"
        }
      ]
    },
    {
      "cell_type": "code",
      "metadata": {
        "id": "eoV4PHxZN8Xp",
        "colab_type": "code",
        "colab": {
          "base_uri": "https://localhost:8080/",
          "height": 136
        },
        "outputId": "8b160bb5-ebef-4a07-ce7a-a539a0234631"
      },
      "source": [
        "min[min==9999]=0\n",
        "min"
      ],
      "execution_count": null,
      "outputs": [
        {
          "output_type": "execute_result",
          "data": {
            "text/plain": [
              "array([[0., 0., 0., 0., 0., 0., 0.],\n",
              "       [3., 0., 0., 0., 0., 0., 0.],\n",
              "       [2., 0., 0., 0., 0., 0., 0.],\n",
              "       [1., 0., 0., 0., 0., 0., 0.],\n",
              "       [2., 0., 0., 0., 0., 0., 0.],\n",
              "       [4., 0., 0., 0., 0., 0., 0.],\n",
              "       [6., 0., 0., 0., 0., 0., 0.]])"
            ]
          },
          "metadata": {
            "tags": []
          },
          "execution_count": 39
        }
      ]
    }
  ]
}