{
  "nbformat": 4,
  "nbformat_minor": 0,
  "metadata": {
    "colab": {
      "name": "Binary Movement Robot.ipynb",
      "provenance": [],
      "collapsed_sections": [],
      "authorship_tag": "ABX9TyPf562s0NpY//XIe6Zti9A+",
      "include_colab_link": true
    },
    "kernelspec": {
      "name": "python3",
      "display_name": "Python 3"
    }
  },
  "cells": [
    {
      "cell_type": "markdown",
      "metadata": {
        "id": "view-in-github",
        "colab_type": "text"
      },
      "source": [
        "<a href=\"https://colab.research.google.com/github/Computer-CGuy/RoboKnightSubmission/blob/master/Binary_Movement_Robot.ipynb\" target=\"_parent\"><img src=\"https://colab.research.google.com/assets/colab-badge.svg\" alt=\"Open In Colab\"/></a>"
      ]
    },
    {
      "cell_type": "code",
      "metadata": {
        "id": "M_G6QqFOMaUt",
        "colab_type": "code",
        "colab": {}
      },
      "source": [
        "robot  = 0"
      ],
      "execution_count": 1,
      "outputs": []
    },
    {
      "cell_type": "code",
      "metadata": {
        "id": "WiZnPeqNMlBQ",
        "colab_type": "code",
        "colab": {}
      },
      "source": [
        "comb = []"
      ],
      "execution_count": 2,
      "outputs": []
    },
    {
      "cell_type": "code",
      "metadata": {
        "id": "XYgY8e7FMe4Z",
        "colab_type": "code",
        "colab": {}
      },
      "source": [
        "def solve(robot,level):\n",
        "    global max_l\n",
        "    if(level==max_l):\n",
        "        comb.append(robot)\n",
        "        return\n",
        "    solve(robot+1,level+1)\n",
        "    solve(robot-1,level+1)"
      ],
      "execution_count": 3,
      "outputs": []
    },
    {
      "cell_type": "code",
      "metadata": {
        "id": "BuiTBq4VM1cW",
        "colab_type": "code",
        "colab": {}
      },
      "source": [
        "def getCalc(max_level):\n",
        "    global max_l\n",
        "    max_l=max_level\n",
        "    global comb\n",
        "    comb = []\n",
        "    solve(0,0)\n",
        "    neg=0\n",
        "    zero=0\n",
        "    pos=0\n",
        "    \n",
        "    for x in comb:\n",
        "        if(x<0):\n",
        "            neg+=1\n",
        "        if(x==0):\n",
        "            zero+=1\n",
        "        if(x>0):\n",
        "            pos+=1\n",
        "    return (neg,zero,pos,len(comb))"
      ],
      "execution_count": 4,
      "outputs": []
    },
    {
      "cell_type": "markdown",
      "metadata": {
        "id": "LEJo2IpPluoI",
        "colab_type": "text"
      },
      "source": [
        "a)"
      ]
    },
    {
      "cell_type": "code",
      "metadata": {
        "id": "96vTxt1_lrKw",
        "colab_type": "code",
        "colab": {
          "base_uri": "https://localhost:8080/",
          "height": 34
        },
        "outputId": "9f94cfeb-3348-463c-cec4-e2077dd54420"
      },
      "source": [
        "prob = getCalc(6)\n",
        "print(((prob[0])/(prob[3]))*100,\"%\")\n"
      ],
      "execution_count": 8,
      "outputs": [
        {
          "output_type": "stream",
          "text": [
            "34.375 %\n"
          ],
          "name": "stdout"
        }
      ]
    },
    {
      "cell_type": "markdown",
      "metadata": {
        "id": "DUulAnqemH_a",
        "colab_type": "text"
      },
      "source": [
        "b)"
      ]
    },
    {
      "cell_type": "code",
      "metadata": {
        "id": "mlMpiI1DNmP3",
        "colab_type": "code",
        "colab": {
          "base_uri": "https://localhost:8080/",
          "height": 34
        },
        "outputId": "fac36b68-49d7-4e41-b4ce-bcecdf676a17"
      },
      "source": [
        "prob = getCalc(7)\n",
        "print(((prob[0])/(prob[3]))*100,\"%\")"
      ],
      "execution_count": 9,
      "outputs": [
        {
          "output_type": "stream",
          "text": [
            "50.0 %\n"
          ],
          "name": "stdout"
        }
      ]
    },
    {
      "cell_type": "markdown",
      "metadata": {
        "id": "IuRKIDMumJEC",
        "colab_type": "text"
      },
      "source": [
        "c)"
      ]
    },
    {
      "cell_type": "code",
      "metadata": {
        "id": "M94dLRFymKLu",
        "colab_type": "code",
        "colab": {}
      },
      "source": [
        "# if n is even, (((2(2n+1)*a(n))/(n+1))/(2**n))*100 if n is odd then always 50%"
      ],
      "execution_count": null,
      "outputs": []
    },
    {
      "cell_type": "markdown",
      "metadata": {
        "id": "-8d4nXP8mfV5",
        "colab_type": "text"
      },
      "source": [
        "d)"
      ]
    },
    {
      "cell_type": "code",
      "metadata": {
        "id": "AXKVzrOPmfAG",
        "colab_type": "code",
        "colab": {}
      },
      "source": [
        "# Probability of ending in left is equal to the probability of ending in right"
      ],
      "execution_count": null,
      "outputs": []
    },
    {
      "cell_type": "markdown",
      "metadata": {
        "id": "iku_geh0mps4",
        "colab_type": "text"
      },
      "source": [
        "e)"
      ]
    },
    {
      "cell_type": "code",
      "metadata": {
        "id": "wTwL5g30mgIq",
        "colab_type": "code",
        "colab": {}
      },
      "source": [
        "getCalc(10)\n",
        "# Answer marked below"
      ],
      "execution_count": null,
      "outputs": []
    },
    {
      "cell_type": "code",
      "metadata": {
        "id": "fAYOjKVTQ-OD",
        "colab_type": "code",
        "colab": {}
      },
      "source": [
        "a = {\n",
        "\n",
        "     \"10\":0,\n",
        "     \"9\":0,\n",
        "     \"8\":0,\n",
        "     \"7\":0,\n",
        "     \"6\":0,\n",
        "     \"5\":0,\n",
        "     \"4\":0,\n",
        "     \"3\":0,\n",
        "     \"2\":0,\n",
        "    \"1\":0,\n",
        "     \"0\":0,\n",
        "     \"-1\":0,\n",
        "     \"-2\":0,\n",
        "     \"-3\":0,\n",
        "     \"-4\":0,\n",
        "     \"-5\":0,\n",
        "     \"-6\":0,\n",
        "     \"-7\":0,\n",
        "     \"-8\":0,\n",
        "     \"-9\":0,\n",
        "     \"-10\":0\n",
        "}"
      ],
      "execution_count": null,
      "outputs": []
    },
    {
      "cell_type": "code",
      "metadata": {
        "id": "fJkkxIt9Q8Fl",
        "colab_type": "code",
        "colab": {}
      },
      "source": [
        "for x in comb:\n",
        "    a[str(x)]+=1"
      ],
      "execution_count": null,
      "outputs": []
    },
    {
      "cell_type": "code",
      "metadata": {
        "id": "zOjpKZTdRfxk",
        "colab_type": "code",
        "colab": {
          "base_uri": "https://localhost:8080/",
          "height": 374
        },
        "outputId": "4dfc0ae0-e885-44ff-bca8-36552262d2c9"
      },
      "source": [
        "for g in a:\n",
        "    print(\"%3d,  %3d\"%(int(g),int(a[g])))\n",
        "## HERE IS THE ANSWER"
      ],
      "execution_count": null,
      "outputs": [
        {
          "output_type": "stream",
          "text": [
            " 10,    1\n",
            "  9,    0\n",
            "  8,   10\n",
            "  7,    0\n",
            "  6,   45\n",
            "  5,    0\n",
            "  4,  120\n",
            "  3,    0\n",
            "  2,  210\n",
            "  1,    0\n",
            "  0,  252\n",
            " -1,    0\n",
            " -2,  210\n",
            " -3,    0\n",
            " -4,  120\n",
            " -5,    0\n",
            " -6,   45\n",
            " -7,    0\n",
            " -8,   10\n",
            " -9,    0\n",
            "-10,    1\n"
          ],
          "name": "stdout"
        }
      ]
    },
    {
      "cell_type": "code",
      "metadata": {
        "id": "c8qqg0FNM2sK",
        "colab_type": "code",
        "colab": {}
      },
      "source": [
        ""
      ],
      "execution_count": 9,
      "outputs": []
    },
    {
      "cell_type": "code",
      "metadata": {
        "id": "ii_3sf0xO2WT",
        "colab_type": "code",
        "colab": {}
      },
      "source": [
        ""
      ],
      "execution_count": null,
      "outputs": []
    },
    {
      "cell_type": "code",
      "metadata": {
        "id": "ifEDyeVaNHL6",
        "colab_type": "code",
        "colab": {}
      },
      "source": [
        ""
      ],
      "execution_count": null,
      "outputs": []
    },
    {
      "cell_type": "markdown",
      "metadata": {
        "id": "odgRfJRpn0dP",
        "colab_type": "text"
      },
      "source": [
        "f)"
      ]
    },
    {
      "cell_type": "code",
      "metadata": {
        "id": "uES_X0Xqn6wL",
        "colab_type": "code",
        "colab": {}
      },
      "source": [
        "## Answer Marked Below"
      ],
      "execution_count": null,
      "outputs": []
    },
    {
      "cell_type": "code",
      "metadata": {
        "id": "pnjrSK53M55z",
        "colab_type": "code",
        "colab": {}
      },
      "source": [
        "#For the \"u\"  one\n",
        "\n",
        "def getCalc(max_level):\n",
        "    global u\n",
        "    global us\n",
        "    us=0\n",
        "    global max_l\n",
        "    max_l=max_level\n",
        "    global comb\n",
        "    comb = []\n",
        "    solve(0,0)\n",
        "    neg=0\n",
        "    zero=0\n",
        "    pos=0\n",
        "    \n",
        "    for x in comb:\n",
        "        if(x==u):\n",
        "            us+=1\n",
        "        if(x<0):\n",
        "            neg+=1\n",
        "        if(x==0):\n",
        "            zero+=1\n",
        "        if(x>0):\n",
        "            pos+=1\n",
        "    return (neg,zero,pos,len(comb))"
      ],
      "execution_count": null,
      "outputs": []
    },
    {
      "cell_type": "code",
      "metadata": {
        "id": "UuOMYJI4NR3o",
        "colab_type": "code",
        "colab": {
          "base_uri": "https://localhost:8080/",
          "height": 102
        },
        "outputId": "d7228f7f-2526-4a4c-a63c-66df606fdd3e"
      },
      "source": [
        "u=1\n",
        "for x in range(3,12,2):\n",
        "    print(getCalc(x),us)\n",
        "#HERE"
      ],
      "execution_count": null,
      "outputs": [
        {
          "output_type": "stream",
          "text": [
            "(4, 0, 4, 8) 3\n",
            "(16, 0, 16, 32) 10\n",
            "(64, 0, 64, 128) 35\n",
            "(256, 0, 256, 512) 126\n",
            "(1024, 0, 1024, 2048) 462\n"
          ],
          "name": "stdout"
        }
      ]
    },
    {
      "cell_type": "markdown",
      "metadata": {
        "id": "ZUXbC4MNn_cT",
        "colab_type": "text"
      },
      "source": [
        "h)"
      ]
    },
    {
      "cell_type": "code",
      "metadata": {
        "id": "xgwNF5PrW83T",
        "colab_type": "code",
        "colab": {}
      },
      "source": [
        "import matplotlib.pyplot as plt\n"
      ],
      "execution_count": null,
      "outputs": []
    },
    {
      "cell_type": "code",
      "metadata": {
        "id": "Sn-UbQHAXAlp",
        "colab_type": "code",
        "colab": {
          "base_uri": "https://localhost:8080/",
          "height": 282
        },
        "outputId": "87003ab4-8b3a-4044-957d-f51352e85eee"
      },
      "source": [
        "#1\n",
        "plt.plot([a[x] for x in a],[int(x) for x in a])"
      ],
      "execution_count": null,
      "outputs": [
        {
          "output_type": "execute_result",
          "data": {
            "text/plain": [
              "[<matplotlib.lines.Line2D at 0x7fcb2ed532b0>]"
            ]
          },
          "metadata": {
            "tags": []
          },
          "execution_count": 72
        },
        {
          "output_type": "display_data",
          "data": {
            "image/png": "[encoded data removed]",
            "text/plain": [
              "<Figure size 432x288 with 1 Axes>"
            ]
          },
          "metadata": {
            "tags": [],
            "needs_background": "light"
          }
        }
      ]
    },
    {
      "cell_type": "code",
      "metadata": {
        "id": "Nngy7U_xYbWu",
        "colab_type": "code",
        "colab": {}
      },
      "source": [
        "#For the \"u\"  one\n",
        "\n",
        "def getCalc(max_level):\n",
        "    global u\n",
        "    global us\n",
        "    us=0\n",
        "    global max_l\n",
        "    max_l=max_level\n",
        "    global comb\n",
        "    comb = []\n",
        "    solve(0,0)\n",
        "    neg=0\n",
        "    zero=0\n",
        "    pos=0\n",
        "    \n",
        "    for x in comb:\n",
        "        if(x==u):\n",
        "            us+=1\n",
        "        if(x<0):\n",
        "            neg+=1\n",
        "        if(x==0):\n",
        "            zero+=1\n",
        "        if(x>0):\n",
        "            pos+=1\n",
        "\n",
        "    return (100*(us))/len(comb)"
      ],
      "execution_count": null,
      "outputs": []
    },
    {
      "cell_type": "code",
      "metadata": {
        "id": "d8DFiXZAXUR9",
        "colab_type": "code",
        "colab": {
          "base_uri": "https://localhost:8080/",
          "height": 282
        },
        "outputId": "abb711ac-2b46-478d-f31c-4cee8801584a"
      },
      "source": [
        "#2\n",
        "#interations means k\n",
        "iterations = 15\n",
        "u = 1\n",
        "plt.plot([x for x in range(iterations)],[getCalc(x) for x in range(iterations)])"
      ],
      "execution_count": null,
      "outputs": [
        {
          "output_type": "execute_result",
          "data": {
            "text/plain": [
              "[<matplotlib.lines.Line2D at 0x7fcb27f74fd0>]"
            ]
          },
          "metadata": {
            "tags": []
          },
          "execution_count": 82
        },
        {
          "output_type": "display_data",
          "data": {
            "image/png": "[encoded data removed]",
            "text/plain": [
              "<Figure size 432x288 with 1 Axes>"
            ]
          },
          "metadata": {
            "tags": [],
            "needs_background": "light"
          }
        }
      ]
    }
  ]
}