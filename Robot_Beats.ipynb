{
  "nbformat": 4,
  "nbformat_minor": 0,
  "metadata": {
    "colab": {
      "name": "Robot Beats.ipynb",
      "provenance": [],
      "authorship_tag": "ABX9TyOREdhY2wvhAm0zmwJ/eCJX",
      "include_colab_link": true
    },
    "kernelspec": {
      "name": "python3",
      "display_name": "Python 3"
    }
  },
  "cells": [
    {
      "cell_type": "markdown",
      "metadata": {
        "id": "view-in-github",
        "colab_type": "text"
      },
      "source": [
        "<a href=\"https://colab.research.google.com/github/Computer-CGuy/RoboKnightSubmission/blob/master/Robot_Beats.ipynb\" target=\"_parent\"><img src=\"https://colab.research.google.com/assets/colab-badge.svg\" alt=\"Open In Colab\"/></a>"
      ]
    },
    {
      "cell_type": "code",
      "metadata": {
        "id": "GA-iAhnmZ0k4",
        "colab_type": "code",
        "colab": {}
      },
      "source": [
        "beats = {\n",
        "    \"M\":2,\n",
        "    \"P\":1\n",
        "}\n",
        "cnt = 0\n",
        "def solve(time,var):\n",
        "    global cnt\n",
        "    if(time<0):\n",
        "        return\n",
        "    if(time==0):\n",
        "        print(var)\n",
        "        cnt+=1\n",
        "        return\n",
        "    for b in beats:\n",
        "        solve(time-beats[b],var+[beats[b]])"
      ],
      "execution_count": 1,
      "outputs": []
    },
    {
      "cell_type": "markdown",
      "metadata": {
        "id": "DO-1i9JlpuBY",
        "colab_type": "text"
      },
      "source": [
        "a)"
      ]
    },
    {
      "cell_type": "code",
      "metadata": {
        "id": "jMeNJcVSplGG",
        "colab_type": "code",
        "colab": {
          "base_uri": "https://localhost:8080/",
          "height": 85
        },
        "outputId": "7eff1657-8c44-40f2-9850-627f5b81d490"
      },
      "source": [
        "for time in range(3):\n",
        "    (solve(time,[]))\n",
        "    # print(cnt)\n",
        "    cnt=0"
      ],
      "execution_count": 4,
      "outputs": [
        {
          "output_type": "stream",
          "text": [
            "[]\n",
            "[1]\n",
            "[2]\n",
            "[1, 1]\n"
          ],
          "name": "stdout"
        }
      ]
    },
    {
      "cell_type": "markdown",
      "metadata": {
        "id": "F88r6ubEpz1b",
        "colab_type": "text"
      },
      "source": [
        "b)"
      ]
    },
    {
      "cell_type": "code",
      "metadata": {
        "id": "IIW-Tl1qp1Qt",
        "colab_type": "code",
        "colab": {}
      },
      "source": [
        ""
      ],
      "execution_count": null,
      "outputs": []
    },
    {
      "cell_type": "code",
      "metadata": {
        "id": "JkWiePzeafaK",
        "colab_type": "code",
        "colab": {
          "base_uri": "https://localhost:8080/",
          "height": 357
        },
        "outputId": "f9da6c79-f029-42a4-fe9b-7f3797bc34f2"
      },
      "source": [
        "for time in range(20):\n",
        "    (solve(time,[]))\n",
        "    print(cnt)\n",
        "    cnt=0"
      ],
      "execution_count": null,
      "outputs": [
        {
          "output_type": "stream",
          "text": [
            "1\n",
            "1\n",
            "2\n",
            "3\n",
            "5\n",
            "8\n",
            "13\n",
            "21\n",
            "34\n",
            "55\n",
            "89\n",
            "144\n",
            "233\n",
            "377\n",
            "610\n",
            "987\n",
            "1597\n",
            "2584\n",
            "4181\n",
            "6765\n"
          ],
          "name": "stdout"
        }
      ]
    },
    {
      "cell_type": "code",
      "metadata": {
        "id": "jjFPItGjbVdB",
        "colab_type": "code",
        "colab": {}
      },
      "source": [
        "#Pattern is the Fibonnacci Sequence"
      ],
      "execution_count": null,
      "outputs": []
    },
    {
      "cell_type": "markdown",
      "metadata": {
        "id": "5GKqHy0-qOpU",
        "colab_type": "text"
      },
      "source": [
        "c)"
      ]
    },
    {
      "cell_type": "code",
      "metadata": {
        "id": "2vLFOjb2ba9l",
        "colab_type": "code",
        "colab": {
          "base_uri": "https://localhost:8080/",
          "height": 527
        },
        "outputId": "1b94f69f-b102-4b30-a2f3-3379780ec2a4"
      },
      "source": [
        "beats = {\n",
        "    \"M\":2,\n",
        "    \"P\":1,\n",
        "    \"S\":3\n",
        "}\n",
        "cnt = 0\n",
        "def solve(time,var):\n",
        "    global cnt\n",
        "    if(time<0):\n",
        "        return\n",
        "    if(time==0):\n",
        "        # print(var)\n",
        "        cnt+=1\n",
        "        return\n",
        "    for b in beats:\n",
        "        solve(time-beats[b],var+[beats[b]])\n",
        "for time in range(10):\n",
        "    print(\"Data for\",time)\n",
        "    (solve(time,[]))\n",
        "    print(cnt)\n",
        "    print()\n",
        "    cnt=0"
      ],
      "execution_count": null,
      "outputs": [
        {
          "output_type": "stream",
          "text": [
            "Data for 0\n",
            "1\n",
            "\n",
            "Data for 1\n",
            "1\n",
            "\n",
            "Data for 2\n",
            "2\n",
            "\n",
            "Data for 3\n",
            "4\n",
            "\n",
            "Data for 4\n",
            "7\n",
            "\n",
            "Data for 5\n",
            "13\n",
            "\n",
            "Data for 6\n",
            "24\n",
            "\n",
            "Data for 7\n",
            "44\n",
            "\n",
            "Data for 8\n",
            "81\n",
            "\n",
            "Data for 9\n",
            "149\n",
            "\n"
          ],
          "name": "stdout"
        }
      ]
    },
    {
      "cell_type": "markdown",
      "metadata": {
        "id": "tukKMyaZqXZU",
        "colab_type": "text"
      },
      "source": [
        "d)"
      ]
    },
    {
      "cell_type": "code",
      "metadata": {
        "id": "jWSrFwpXcD3o",
        "colab_type": "code",
        "colab": {}
      },
      "source": [
        "#Pattern is similiar to the Fibonnacci Sequence, but here last 3 are added f(n) = f(n-1)+f(n-2)+f(n-3)"
      ],
      "execution_count": null,
      "outputs": []
    },
    {
      "cell_type": "markdown",
      "metadata": {
        "id": "Meo0SxWZqaQ1",
        "colab_type": "text"
      },
      "source": [
        "e)\n"
      ]
    },
    {
      "cell_type": "markdown",
      "metadata": {
        "id": "-eFXABnBqglO",
        "colab_type": "text"
      },
      "source": [
        ""
      ]
    },
    {
      "cell_type": "code",
      "metadata": {
        "id": "fMI5tp9Kqb0U",
        "colab_type": "code",
        "colab": {}
      },
      "source": [
        "# Generalized f(n) is [(sum from n = 1 to k)  = f(n-i)]\n",
        "# So this ends up with f(n-1)+f(n-2)+f(n-3)"
      ],
      "execution_count": null,
      "outputs": []
    }
  ]
}