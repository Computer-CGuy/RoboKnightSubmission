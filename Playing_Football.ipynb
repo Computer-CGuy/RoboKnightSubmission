{
  "nbformat": 4,
  "nbformat_minor": 0,
  "metadata": {
    "colab": {
      "name": "Playing Football.ipynb",
      "provenance": [],
      "toc_visible": true,
      "authorship_tag": "ABX9TyNUbndjdFKii3WfkthzH++d",
      "include_colab_link": true
    },
    "kernelspec": {
      "name": "python3",
      "display_name": "Python 3"
    }
  },
  "cells": [
    {
      "cell_type": "markdown",
      "metadata": {
        "id": "view-in-github",
        "colab_type": "text"
      },
      "source": [
        "<a href=\"https://colab.research.google.com/github/Computer-CGuy/RoboKnightSubmission/blob/master/Playing_Football.ipynb\" target=\"_parent\"><img src=\"https://colab.research.google.com/assets/colab-badge.svg\" alt=\"Open In Colab\"/></a>"
      ]
    },
    {
      "cell_type": "markdown",
      "metadata": {
        "id": "Qn6g4VySr0Ri",
        "colab_type": "text"
      },
      "source": [
        "## Simple Approach (No Bounces)"
      ]
    },
    {
      "cell_type": "code",
      "metadata": {
        "id": "I4KQzFvyOCKn",
        "colab_type": "code",
        "colab": {}
      },
      "source": [
        "import math"
      ],
      "execution_count": null,
      "outputs": []
    },
    {
      "cell_type": "code",
      "metadata": {
        "id": "TD9w8J7-MHXD",
        "colab_type": "code",
        "colab": {}
      },
      "source": [
        "def getAngle(x1,y1):\n",
        "    return math.degrees(((x1)/(((x1**2)+(y1**2))**0.5)))"
      ],
      "execution_count": null,
      "outputs": []
    },
    {
      "cell_type": "code",
      "metadata": {
        "id": "JvcHEJBdMrCb",
        "colab_type": "code",
        "colab": {}
      },
      "source": [
        "# 3,30 10,0"
      ],
      "execution_count": null,
      "outputs": []
    },
    {
      "cell_type": "code",
      "metadata": {
        "id": "1yFhiYNFN3Cu",
        "colab_type": "code",
        "colab": {
          "base_uri": "https://localhost:8080/",
          "height": 510
        },
        "outputId": "8ad401df-0699-4236-e0c9-f51df572c131"
      },
      "source": [
        "maxa = 0\n",
        "xi = 10\n",
        "yi = 10\n",
        "# for xi in range(-29,29):\n",
        "for y in range(0,29):\n",
        "    print((abs(getAngle(xi-3,y-3)-getAngle(xi+3,y-3))))\n",
        "    if (maxa<(abs(getAngle(xi-3,y-3)-getAngle(xi+3,y-3)))):\n",
        "        maxa = (abs(getAngle(xi-3,y-3)-getAngle(xi+3,y-3)))\n",
        "        y1=y"
      ],
      "execution_count": null,
      "outputs": [
        {
          "output_type": "stream",
          "text": [
            "3.1653721275475135\n",
            "1.5382627649835143\n",
            "0.40708604593066866\n",
            "0.0\n",
            "0.40708604593066866\n",
            "1.5382627649835143\n",
            "3.1653721275475135\n",
            "5.015435712056416\n",
            "6.853270513838453\n",
            "8.520041818197761\n",
            "9.93304378171225\n",
            "11.066892313603041\n",
            "11.931936503722497\n",
            "12.557037274820381\n",
            "12.978112463142924\n",
            "13.231452967371222\n",
            "13.350315299264071\n",
            "13.363524595763646\n",
            "13.295203344673666\n",
            "13.165068471304366\n",
            "12.98897053707542\n",
            "12.779496615583835\n",
            "12.546547106479437\n",
            "12.297847275638585\n",
            "12.039381587133345\n",
            "11.775752604549925\n",
            "11.510472345298123\n",
            "11.246196000924545\n",
            "10.984907913675503\n"
          ],
          "name": "stdout"
        }
      ]
    },
    {
      "cell_type": "markdown",
      "metadata": {
        "id": "IQv2vun_r6yc",
        "colab_type": "text"
      },
      "source": [
        "## More brains Approach"
      ]
    },
    {
      "cell_type": "code",
      "metadata": {
        "id": "YFK6PanstzN2",
        "colab_type": "code",
        "colab": {}
      },
      "source": [
        "import cv2\n",
        "import numpy as np\n",
        "from google.colab.patches import cv2_imshow \n",
        "import matplotlib.pyplot as plt\n",
        "import math"
      ],
      "execution_count": null,
      "outputs": []
    },
    {
      "cell_type": "code",
      "metadata": {
        "id": "W_XyxgQj19wH",
        "colab_type": "code",
        "colab": {}
      },
      "source": [
        "def plotGoal(bot = (10,10),a = 10):\n",
        "    plt.plot([30,30],[30,-30])\n",
        "    plt.plot([-30,-30],[30,-30])\n",
        "    plt.plot([-30,30],[30,30])\n",
        "    plt.plot([-30,30],[-30,-30])\n",
        "    \n",
        "    goal = (a,30)\n",
        "    plt.plot([-a,a],[30,30],linewidth=4)\n",
        "    plt.scatter(bot[0],bot[1])"
      ],
      "execution_count": null,
      "outputs": []
    },
    {
      "cell_type": "code",
      "metadata": {
        "id": "zPHfWAc-t_Pi",
        "colab_type": "code",
        "colab": {
          "base_uri": "https://localhost:8080/",
          "height": 265
        },
        "outputId": "a76bc467-b28b-4010-f6d0-214b97797734"
      },
      "source": [
        "plotGoal()"
      ],
      "execution_count": null,
      "outputs": [
        {
          "output_type": "display_data",
          "data": {
            "image/png": "[encoded data removed]",
            "text/plain": [
              "<Figure size 432x288 with 1 Axes>"
            ]
          },
          "metadata": {
            "tags": [],
            "needs_background": "light"
          }
        }
      ]
    },
    {
      "cell_type": "code",
      "metadata": {
        "id": "3NePeb95CtFU",
        "colab_type": "code",
        "colab": {
          "base_uri": "https://localhost:8080/",
          "height": 282
        },
        "outputId": "8639b162-518d-4638-d10f-883756c0e57f"
      },
      "source": [
        "##Angle Between first goal point to the bot Field of Vision (or Goal Area)\n",
        "bot = (10,10)\n",
        "a = 3\n",
        "plotGoal(a=3)\n",
        "plt.plot([a,bot[0]],[30,bot[1]])\n",
        "plt.plot([-a,bot[0]],[30,bot[1]])\n",
        "plt.plot([bot[0]-10,bot[0]],[bot[1],bot[1]])"
      ],
      "execution_count": null,
      "outputs": [
        {
          "output_type": "execute_result",
          "data": {
            "text/plain": [
              "[<matplotlib.lines.Line2D at 0x7f0880adcc18>]"
            ]
          },
          "metadata": {
            "tags": []
          },
          "execution_count": 6
        },
        {
          "output_type": "display_data",
          "data": {
            "image/png": "[encoded data removed]",
            "text/plain": [
              "<Figure size 432x288 with 1 Axes>"
            ]
          },
          "metadata": {
            "tags": [],
            "needs_background": "light"
          }
        }
      ]
    },
    {
      "cell_type": "code",
      "metadata": {
        "id": "B1UMyTe84QOK",
        "colab_type": "code",
        "colab": {}
      },
      "source": [
        "def dot(v1,v2):\n",
        "    return v1[0]*v2[0]+v1[1]*v2[1]\n",
        "def mag(a):\n",
        "    return (a[0]**2+a[1]**2)**0.5"
      ],
      "execution_count": null,
      "outputs": []
    },
    {
      "cell_type": "code",
      "metadata": {
        "id": "6ZXUt2J73OLx",
        "colab_type": "code",
        "colab": {}
      },
      "source": [
        "def angle(x1,y1,x,y,x2,y2):\n",
        "    v1 =[(x1-x),(y1-y)]\n",
        "    v2 =[(x2-x),(y2-y)]\n",
        "    return math.degrees(math.acos(dot(v1,v2)/(mag(v1)*mag(v2))))"
      ],
      "execution_count": null,
      "outputs": []
    },
    {
      "cell_type": "code",
      "metadata": {
        "id": "Wk-LMsDEAaBN",
        "colab_type": "code",
        "colab": {}
      },
      "source": [
        "a = -3"
      ],
      "execution_count": null,
      "outputs": []
    },
    {
      "cell_type": "code",
      "metadata": {
        "id": "iaIF0LxhBAvs",
        "colab_type": "code",
        "colab": {}
      },
      "source": [
        "    "
      ],
      "execution_count": null,
      "outputs": []
    },
    {
      "cell_type": "code",
      "metadata": {
        "id": "e6AShBgN5bgv",
        "colab_type": "code",
        "colab": {
          "base_uri": "https://localhost:8080/",
          "height": 527
        },
        "outputId": "69acdfff-382d-41cc-c43d-eefba740b0f5"
      },
      "source": [
        "ans = 0\n",
        "maxa = 0\n",
        "for x in range(0,30):\n",
        "    bot=(10,x)\n",
        "    first = angle(bot[0]-10,bot[1],bot[0],bot[1],a,30)\n",
        "    second = angle(bot[0]-10,bot[1],bot[0],bot[1],-a,30) \n",
        "    Angle = (second-first)\n",
        "    if(Angle>maxa):\n",
        "        maxa = Angle\n",
        "        ans=x\n",
        "        print(\"Max\",end=\" \")\n",
        "    print(\"%0.2f %0.2f %0.2f\"%(Angle,first,second))"
      ],
      "execution_count": null,
      "outputs": [
        {
          "output_type": "stream",
          "text": [
            "Max 10.29 66.57 76.87\n",
            "Max 10.58 65.85 76.43\n",
            "Max 10.87 65.10 75.96\n",
            "Max 11.18 64.29 75.47\n",
            "Max 11.50 63.43 74.93\n",
            "Max 11.83 62.53 74.36\n",
            "Max 12.18 61.56 73.74\n",
            "Max 12.55 60.52 73.07\n",
            "Max 12.93 59.42 72.35\n",
            "Max 13.32 58.24 71.57\n",
            "Max 13.73 56.98 70.71\n",
            "Max 14.16 55.62 69.78\n",
            "Max 14.59 54.16 68.75\n",
            "Max 15.03 52.59 67.62\n",
            "Max 15.46 50.91 66.37\n",
            "Max 15.90 49.09 64.98\n",
            "Max 16.31 47.12 63.43\n",
            "Max 16.70 45.00 61.70\n",
            "Max 17.03 42.71 59.74\n",
            "Max 17.29 40.24 57.53\n",
            "Max 17.44 37.57 55.01\n",
            "17.43 34.70 52.13\n",
            "17.21 31.61 48.81\n",
            "16.70 28.30 45.00\n",
            "15.83 24.78 40.60\n",
            "14.50 21.04 35.54\n",
            "12.64 17.10 29.74\n",
            "10.20 12.99 23.20\n",
            "7.20 8.75 15.95\n",
            "3.73 4.40 8.13\n"
          ],
          "name": "stdout"
        }
      ]
    },
    {
      "cell_type": "code",
      "metadata": {
        "id": "AsRDSblr-4u4",
        "colab_type": "code",
        "colab": {
          "base_uri": "https://localhost:8080/",
          "height": 282
        },
        "outputId": "932f0e91-d11d-42be-e817-5ad684e9d419"
      },
      "source": [
        "bot = (10,10)\n",
        "a = 3\n",
        "plotGoal(a=a)\n",
        "plt.scatter(60-a,30)\n",
        "plt.plot([60-a,bot[0]],[30,bot[1]])"
      ],
      "execution_count": null,
      "outputs": [
        {
          "output_type": "execute_result",
          "data": {
            "text/plain": [
              "[<matplotlib.lines.Line2D at 0x7f0880a60e10>]"
            ]
          },
          "metadata": {
            "tags": []
          },
          "execution_count": 10
        },
        {
          "output_type": "display_data",
          "data": {
            "image/png": "[encoded data removed]",
            "text/plain": [
              "<Figure size 432x288 with 1 Axes>"
            ]
          },
          "metadata": {
            "tags": [],
            "needs_background": "light"
          }
        }
      ]
    },
    {
      "cell_type": "code",
      "metadata": {
        "id": "tNPtp_K6O5Xq",
        "colab_type": "code",
        "colab": {}
      },
      "source": [
        "## Computing Single Bounces\n",
        "m = ((60-a-bot[0])/(30-bot[1]))\n",
        "c = bot[1]-m*(bot[0]) "
      ],
      "execution_count": null,
      "outputs": []
    },
    {
      "cell_type": "code",
      "metadata": {
        "id": "3_JU-rqtEXv0",
        "colab_type": "code",
        "colab": {
          "base_uri": "https://localhost:8080/",
          "height": 34
        },
        "outputId": "77c6bf3f-fe74-432e-e4bb-8f986a2339ff"
      },
      "source": [
        "m,c"
      ],
      "execution_count": null,
      "outputs": [
        {
          "output_type": "execute_result",
          "data": {
            "text/plain": [
              "(2.35, -13.5)"
            ]
          },
          "metadata": {
            "tags": []
          },
          "execution_count": 93
        }
      ]
    },
    {
      "cell_type": "code",
      "metadata": {
        "id": "NW1meDsqEsM4",
        "colab_type": "code",
        "colab": {
          "base_uri": "https://localhost:8080/",
          "height": 609
        },
        "outputId": "f3abbdd2-78f9-42c5-885f-f9ea7bf06cb0"
      },
      "source": [
        "bot = (10,10)\n",
        "_ = plt.figure(figsize=(10,10))\n",
        "def getBouncePoint(bot = (10,10),a = 4):\n",
        "    m = ((30-bot[1])/(60-a-bot[0]))\n",
        "    c = bot[1]-m*(bot[0]) \n",
        "    # y = ((30-c)/m)\n",
        "    y = m*30 + c\n",
        "    return y\n",
        "plotGoal(a=a)\n",
        "plt.scatter(60-a,30)\n",
        "plt.plot([60-a,bot[0]],[30,bot[1]])\n",
        "y = getBouncePoint(a=a)\n",
        "plt.scatter(30,y)\n",
        "plt.plot([bot[0],30,a],[bot[1],y,30])\n"
      ],
      "execution_count": null,
      "outputs": [
        {
          "output_type": "execute_result",
          "data": {
            "text/plain": [
              "[<matplotlib.lines.Line2D at 0x7f087dd56828>]"
            ]
          },
          "metadata": {
            "tags": []
          },
          "execution_count": 64
        },
        {
          "output_type": "display_data",
          "data": {
            "image/png": "[encoded data removed]",
            "text/plain": [
              "<Figure size 720x720 with 1 Axes>"
            ]
          },
          "metadata": {
            "tags": [],
            "needs_background": "light"
          }
        }
      ]
    },
    {
      "cell_type": "code",
      "metadata": {
        "id": "6K8lrCGHd_zu",
        "colab_type": "code",
        "colab": {
          "base_uri": "https://localhost:8080/",
          "height": 282
        },
        "outputId": "01ff826f-73ff-47e5-d452-61ec5adb05f8"
      },
      "source": [
        "bot = (10,10)\n",
        "def getBouncePoint(bot = (10,10),a = 4):\n",
        "    m = ((30-bot[1])/(60-a-bot[0]))\n",
        "    c = bot[1]-m*(bot[0]) \n",
        "    # y = ((30-c)/m)\n",
        "    y = m*30 + c\n",
        "    return y\n",
        "plotGoal(a=a)\n",
        "plt.scatter(60-a,30)\n",
        "# plt.plot([60-a,bot[0]],[30,bot[1]])\n",
        "y = getBouncePoint(a=a)\n",
        "plt.scatter(30,y)\n",
        "plt.plot([bot[0],30,a],[bot[1],y,30])\n",
        "\n",
        "y = getBouncePoint(a=-a)\n",
        "plt.scatter(30,y)\n",
        "plt.plot([bot[0],30,-a],[bot[1],y,30])"
      ],
      "execution_count": null,
      "outputs": [
        {
          "output_type": "execute_result",
          "data": {
            "text/plain": [
              "[<matplotlib.lines.Line2D at 0x7f087de67710>]"
            ]
          },
          "metadata": {
            "tags": []
          },
          "execution_count": 61
        },
        {
          "output_type": "display_data",
          "data": {
            "image/png": "[encoded data removed]",
            "text/plain": [
              "<Figure size 432x288 with 1 Axes>"
            ]
          },
          "metadata": {
            "tags": [],
            "needs_background": "light"
          }
        }
      ]
    },
    {
      "cell_type": "code",
      "metadata": {
        "id": "_fw7iGK6FJnD",
        "colab_type": "code",
        "colab": {
          "base_uri": "https://localhost:8080/",
          "height": 282
        },
        "outputId": "92731e9a-ff3a-4ba9-f0f9-3d468eb29d64"
      },
      "source": [
        "y = getBouncePoint(a=a)\n",
        "y2 = getBouncePoint(a=-a)\n",
        "plotGoal(a=a)\n",
        "a1 = (angle(bot[0]+10,bot[1],bot[0],bot[1],30,y))\n",
        "plt.plot([bot[0]+10,bot[0],30],[bot[1],bot[1],y])\n",
        "a2 = (angle(bot[0]+10,bot[1],bot[0],bot[1],30,y2))\n",
        "plt.plot([bot[0]+10,bot[0],30],[bot[1],bot[1],y2])"
      ],
      "execution_count": null,
      "outputs": [
        {
          "output_type": "execute_result",
          "data": {
            "text/plain": [
              "[<matplotlib.lines.Line2D at 0x7f087fcede80>]"
            ]
          },
          "metadata": {
            "tags": []
          },
          "execution_count": 38
        },
        {
          "output_type": "display_data",
          "data": {
            "image/png": "[encoded data removed]",
            "text/plain": [
              "<Figure size 432x288 with 1 Axes>"
            ]
          },
          "metadata": {
            "tags": [],
            "needs_background": "light"
          }
        }
      ]
    },
    {
      "cell_type": "code",
      "metadata": {
        "id": "lbNNVArsfOXQ",
        "colab_type": "code",
        "colab": {}
      },
      "source": [
        "## CALCULATING THE BEST WITH BOUNCES\n"
      ],
      "execution_count": null,
      "outputs": []
    },
    {
      "cell_type": "code",
      "metadata": {
        "id": "OegPIWFDfmeq",
        "colab_type": "code",
        "colab": {
          "base_uri": "https://localhost:8080/",
          "height": 527
        },
        "outputId": "4880b2bb-9561-41a7-8d55-51916661ebdf"
      },
      "source": [
        "a = 3\n",
        "ans = 0\n",
        "maxa = 0\n",
        "h = []\n",
        "g = []\n",
        "i = []\n",
        "p = []\n",
        "q = []\n",
        "for x in range(0,30):\n",
        "    bot=(10,x)\n",
        "    first = angle(bot[0]-10,bot[1],bot[0],bot[1],a,30)\n",
        "    second = angle(bot[0]-10,bot[1],bot[0],bot[1],-a,30) \n",
        "    y = getBouncePoint(bot=(10,x),a=a)\n",
        "    y2 = getBouncePoint(bot=(10,x),a=-a)\n",
        "    a1 = (angle(bot[0]+10,bot[1],bot[0],bot[1],30,y))\n",
        "    a2 = (angle(bot[0]+10,bot[1],bot[0],bot[1],30,y2))\n",
        "    Angle = abs(second-first)+abs(a2-a1)\n",
        "    if(Angle>maxa):\n",
        "        maxa = Angle\n",
        "        ans=x\n",
        "        print(\"Max\",end=\" \")\n",
        "    print(\"%0.2f %0.2f %0.2f\"%(Angle,first,second))\n",
        "    h.append(Angle)\n",
        "    g.append(first)\n",
        "    i.append(second)\n",
        "    p.append(a1)\n",
        "    q.append(a2)"
      ],
      "execution_count": null,
      "outputs": [
        {
          "output_type": "stream",
          "text": [
            "Max 13.33 76.87 66.57\n",
            "Max 13.56 76.43 65.85\n",
            "Max 13.81 75.96 65.10\n",
            "Max 14.06 75.47 64.29\n",
            "Max 14.32 74.93 63.43\n",
            "Max 14.59 74.36 62.53\n",
            "Max 14.87 73.74 61.56\n",
            "Max 15.16 73.07 60.52\n",
            "Max 15.47 72.35 59.42\n",
            "Max 15.79 71.57 58.24\n",
            "Max 16.11 70.71 56.98\n",
            "Max 16.44 69.78 55.62\n",
            "Max 16.78 68.75 54.16\n",
            "Max 17.13 67.62 52.59\n",
            "Max 17.47 66.37 50.91\n",
            "Max 17.80 64.98 49.09\n",
            "Max 18.10 63.43 47.12\n",
            "Max 18.38 61.70 45.00\n",
            "Max 18.60 59.74 42.71\n",
            "Max 18.74 57.53 40.24\n",
            "Max 18.77 55.01 37.57\n",
            "18.63 52.13 34.70\n",
            "18.28 48.81 31.61\n",
            "17.65 45.00 28.30\n",
            "16.64 40.60 24.78\n",
            "15.18 35.54 21.04\n",
            "13.19 29.74 17.10\n",
            "10.62 23.20 12.99\n",
            "7.47 15.95 8.75\n",
            "3.87 8.13 4.40\n"
          ],
          "name": "stdout"
        }
      ]
    },
    {
      "cell_type": "code",
      "metadata": {
        "id": "DjV0vlRVxRji",
        "colab_type": "code",
        "colab": {
          "base_uri": "https://localhost:8080/",
          "height": 609
        },
        "outputId": "f7604b14-1ce7-42f9-ce32-fc065091f9c4"
      },
      "source": [
        "_ = plt.figure(figsize=(10,10))\n",
        "plt.plot(h,[x for x in range(len(h))])\n",
        "plt.plot(g,[x for x in range(len(g))])\n",
        "plt.plot(i,[x for x in range(len(i))])\n",
        "plt.plot(p,[x for x in range(len(p))])\n",
        "plt.plot(q,[x for x in range(len(q))])\n",
        "# If this helps\n",
        "\n",
        "plt.legend([\"Total Angle Score\",\"Single Bounce 1\",\"Single Bounce 2\",\"Double Bounce 1\",\"Double Bounce 2\"])"
      ],
      "execution_count": null,
      "outputs": [
        {
          "output_type": "execute_result",
          "data": {
            "text/plain": [
              "<matplotlib.legend.Legend at 0x7f087d810dd8>"
            ]
          },
          "metadata": {
            "tags": []
          },
          "execution_count": 103
        },
        {
          "output_type": "display_data",
          "data": {
            "image/png": "[encoded data removed]",
            "text/plain": [
              "<Figure size 720x720 with 1 Axes>"
            ]
          },
          "metadata": {
            "tags": [],
            "needs_background": "light"
          }
        }
      ]
    },
    {
      "cell_type": "code",
      "metadata": {
        "id": "qhhgAI2gxN0T",
        "colab_type": "code",
        "colab": {}
      },
      "source": [
        "## Two walls"
      ],
      "execution_count": null,
      "outputs": []
    },
    {
      "cell_type": "code",
      "metadata": {
        "id": "yVVqarx0xza7",
        "colab_type": "code",
        "colab": {}
      },
      "source": [
        "#UPDATED\n",
        "def getBouncePoint(bot = (10,10),a = 4,w=30):\n",
        "    m = ((30-bot[1])/(60-a-bot[0]))\n",
        "    if(w==-30):\n",
        "        m*=-1\n",
        "    c = bot[1]-m*(bot[0]) \n",
        "    # y = ((30-c)/m)\n",
        "    y = m*w + c\n",
        "    return y"
      ],
      "execution_count": null,
      "outputs": []
    },
    {
      "cell_type": "code",
      "metadata": {
        "id": "jbnHc_czxsiU",
        "colab_type": "code",
        "colab": {
          "base_uri": "https://localhost:8080/",
          "height": 527
        },
        "outputId": "33f81878-7af7-4e1c-ac61-7f0a380ed8b0"
      },
      "source": [
        "a = 3\n",
        "ans = 0\n",
        "maxa = 0\n",
        "h = []\n",
        "g = []\n",
        "i = []\n",
        "p = []\n",
        "q = []\n",
        "for x in range(0,30):\n",
        "    bot=(10,x)\n",
        "    first = angle(bot[0]-10,bot[1],bot[0],bot[1],a,30)\n",
        "    second = angle(bot[0]-10,bot[1],bot[0],bot[1],-a,30) \n",
        "    y = getBouncePoint(bot=(10,x),a=a)\n",
        "    y2 = getBouncePoint(bot=(10,x),a=-a)\n",
        "    a1 = (angle(bot[0]+10,bot[1],bot[0],bot[1],30,y))\n",
        "    a2 = (angle(bot[0]+10,bot[1],bot[0],bot[1],30,y2))\n",
        "\n",
        "    y = getBouncePoint(bot=(10,x),a=a,w=-30)\n",
        "    y2 = getBouncePoint(bot=(10,x),a=-a,w=-30)\n",
        "    b1 = (angle(bot[0]+10,bot[1],bot[0],bot[1],-30,y))\n",
        "    b2 = (angle(bot[0]+10,bot[1],bot[0],bot[1],-30,y2))\n",
        "    Angle = abs(second-first)+abs(a2-a1)+abs(b1-b2)\n",
        "    if(Angle>maxa):\n",
        "        maxa = Angle\n",
        "        ans=x\n",
        "        print(\"Max\",end=\" \")\n",
        "    print(\"%0.2f %0.2f %0.2f\"%(Angle,first,second))\n",
        "    h.append(Angle)\n",
        "    g.append(first)\n",
        "    i.append(second)\n",
        "    p.append(a1)\n",
        "    q.append(a2)"
      ],
      "execution_count": null,
      "outputs": [
        {
          "output_type": "stream",
          "text": [
            "Max 16.37 76.87 66.57\n",
            "Max 16.55 76.43 65.85\n",
            "Max 16.74 75.96 65.10\n",
            "Max 16.94 75.47 64.29\n",
            "Max 17.14 74.93 63.43\n",
            "Max 17.34 74.36 62.53\n",
            "Max 17.56 73.74 61.56\n",
            "Max 17.78 73.07 60.52\n",
            "Max 18.01 72.35 59.42\n",
            "Max 18.25 71.57 58.24\n",
            "Max 18.49 70.71 56.98\n",
            "Max 18.73 69.78 55.62\n",
            "Max 18.98 68.75 54.16\n",
            "Max 19.23 67.62 52.59\n",
            "Max 19.47 66.37 50.91\n",
            "Max 19.69 64.98 49.09\n",
            "Max 19.90 63.43 47.12\n",
            "Max 20.06 61.70 45.00\n",
            "Max 20.16 59.74 42.71\n",
            "Max 20.19 57.53 40.24\n",
            "20.09 55.01 37.57\n",
            "19.84 52.13 34.70\n",
            "19.36 48.81 31.61\n",
            "18.59 45.00 28.30\n",
            "17.46 40.60 24.78\n",
            "15.87 35.54 21.04\n",
            "13.74 29.74 17.10\n",
            "11.03 23.20 12.99\n",
            "7.75 15.95 8.75\n",
            "4.01 8.13 4.40\n"
          ],
          "name": "stdout"
        }
      ]
    },
    {
      "cell_type": "code",
      "metadata": {
        "id": "tRKeKOVmyRqP",
        "colab_type": "code",
        "colab": {
          "base_uri": "https://localhost:8080/",
          "height": 282
        },
        "outputId": "e38239f8-c15f-496c-ed20-eac58142f5e6"
      },
      "source": [
        "bot = (10,20)\n",
        "plotGoal(bot=bot,a=a)\n",
        "# plt.scatter(60-a,30)\n",
        "# plt.plot([60-a,bot[0]],[30,bot[1]])\n",
        "y = getBouncePoint(bot=bot,a=a)\n",
        "plt.scatter(30,y)\n",
        "plt.plot([bot[0],30,a],[bot[1],y,30])\n",
        "\n",
        "y = getBouncePoint(bot=bot,a=-a)\n",
        "plt.scatter(30,y)\n",
        "plt.plot([bot[0],30,-a],[bot[1],y,30])\n",
        "\n",
        "y = getBouncePoint(bot=bot,a=a,w=-30)\n",
        "plt.scatter(-30,y)\n",
        "plt.plot([bot[0],-30,-a],[bot[1],y,30])\n",
        "\n",
        "y = getBouncePoint(bot=bot,a=-a,w=-30)\n",
        "plt.scatter(-30,y)\n",
        "plt.plot([bot[0],-30,-a],[bot[1],y,30])\n",
        "\n",
        "plt.plot([bot[0],a],[bot[1],30])\n",
        "plt.plot([bot[0],-a],[bot[1],30])"
      ],
      "execution_count": null,
      "outputs": [
        {
          "output_type": "execute_result",
          "data": {
            "text/plain": [
              "[<matplotlib.lines.Line2D at 0x7f087d9ac860>]"
            ]
          },
          "metadata": {
            "tags": []
          },
          "execution_count": 128
        },
        {
          "output_type": "display_data",
          "data": {
            "image/png": "[encoded data removed]",
            "text/plain": [
              "<Figure size 432x288 with 1 Axes>"
            ]
          },
          "metadata": {
            "tags": [],
            "needs_background": "light"
          }
        }
      ]
    },
    {
      "cell_type": "code",
      "metadata": {
        "id": "s_UO1Xqfq9M6",
        "colab_type": "code",
        "colab": {
          "base_uri": "https://localhost:8080/",
          "height": 34
        },
        "outputId": "c7abc0ed-ca99-4182-ebec-fc13c3b55234"
      },
      "source": [
        "print(\"Best coordinate for maximum probability is\",ans,\"with probability %0.3f%%\"%((maxa*100)/180))"
      ],
      "execution_count": null,
      "outputs": [
        {
          "output_type": "stream",
          "text": [
            "Best coordinate for maximum probability is 19 with probability 11.215%\n"
          ],
          "name": "stdout"
        }
      ]
    },
    {
      "cell_type": "markdown",
      "metadata": {
        "id": "a1dHlqviujCJ",
        "colab_type": "text"
      },
      "source": [
        "## Double bounce Approach"
      ]
    },
    {
      "cell_type": "code",
      "metadata": {
        "id": "4N75metqulqR",
        "colab_type": "code",
        "colab": {}
      },
      "source": [
        "## I donot want to, it can be done by finding mirror image of bot and goal coordinates by the walls \n",
        "## Practically, it will not work because of the speed of the balls decreases due to restitution"
      ],
      "execution_count": null,
      "outputs": []
    },
    {
      "cell_type": "markdown",
      "metadata": {
        "id": "7fJisspesH8g",
        "colab_type": "text"
      },
      "source": [
        "## Other Answers to problems"
      ]
    },
    {
      "cell_type": "markdown",
      "metadata": {
        "id": "cSVDViUOtJgA",
        "colab_type": "text"
      },
      "source": [
        "### c) How does your answer for the optimal time change if the starting position of the robot changes from (10, 0) to (x, 0) and everything else remains the same ?\n"
      ]
    },
    {
      "cell_type": "code",
      "metadata": {
        "id": "4hzrMluHtLJK",
        "colab_type": "code",
        "colab": {}
      },
      "source": [
        "ansX = 0\n",
        "ansY = 0\n",
        "for global_y in range(-28,28):\n",
        "    for x in range(0,30):\n",
        "        bot=(global_y,x)\n",
        "        first = angle(bot[0]-10,bot[1],bot[0],bot[1],a,30)\n",
        "        second = angle(bot[0]-10,bot[1],bot[0],bot[1],-a,30) \n",
        "        y = getBouncePoint(bot=bot,a=a)\n",
        "        y2 = getBouncePoint(bot=bot,a=-a)\n",
        "        a1 = (angle(bot[0]+10,bot[1],bot[0],bot[1],30,y))\n",
        "        a2 = (angle(bot[0]+10,bot[1],bot[0],bot[1],30,y2))\n",
        "        \n",
        "        y = getBouncePoint(bot=bot,a=a,w=-30)\n",
        "        y2 = getBouncePoint(bot=bot,a=-a,w=-30)\n",
        "        b1 = (angle(bot[0]+10,bot[1],bot[0],bot[1],-30,y))\n",
        "        b2 = (angle(bot[0]+10,bot[1],bot[0],bot[1],-30,y2))\n",
        "        Angle = abs(second-first)+abs(a2-a1)+abs(b1-b2)\n",
        "        # Angle = abs(second-first)+abs(a2-a1)\n",
        "        if(Angle>maxa):\n",
        "            maxa = Angle\n",
        "            ansX=x\n",
        "            ansY=global_y\n",
        "        #     print(\"Max\",end=\" \")\n",
        "        # print(\"%0.2f %0.2f %0.2f\"%(Angle,first,second))"
      ],
      "execution_count": null,
      "outputs": []
    },
    {
      "cell_type": "code",
      "metadata": {
        "id": "2OYLNFqjtsAp",
        "colab_type": "code",
        "colab": {
          "base_uri": "https://localhost:8080/",
          "height": 34
        },
        "outputId": "b6ed7b1d-9292-49c2-d13b-c82258500462"
      },
      "source": [
        "print(\"Best coordinate for maximum probability is at(%d,%d)\"%(ansX,ansY),\"with probability %0.3f%%\"%((maxa*100)/180))"
      ],
      "execution_count": null,
      "outputs": [
        {
          "output_type": "stream",
          "text": [
            "Best coordinate for maximum probability is at(0,0) with probability 79.623%\n"
          ],
          "name": "stdout"
        }
      ]
    },
    {
      "cell_type": "code",
      "metadata": {
        "id": "vzCtro21t6C4",
        "colab_type": "code",
        "colab": {
          "base_uri": "https://localhost:8080/",
          "height": 282
        },
        "outputId": "a5a3c27b-8888-4a80-d5c8-9194b11cea46"
      },
      "source": [
        "bot = (0,0)\n",
        "plotGoal(bot=bot,a=a)\n",
        "# plt.scatter(60-a,30)\n",
        "# plt.plot([60-a,bot[0]],[30,bot[1]])\n",
        "y = getBouncePoint(bot=bot,a=a)\n",
        "plt.scatter(30,y)\n",
        "plt.plot([bot[0],30,a],[bot[1],y,30])\n",
        "\n",
        "y = getBouncePoint(bot=bot,a=-a)\n",
        "plt.scatter(30,y)\n",
        "plt.plot([bot[0],30,-a],[bot[1],y,30])\n",
        "\n",
        "y = getBouncePoint(bot=bot,a=a,w=-30)\n",
        "plt.scatter(-30,y)\n",
        "plt.plot([bot[0],-30,-a],[bot[1],y,30])\n",
        "\n",
        "y = getBouncePoint(bot=bot,a=-a,w=-30)\n",
        "plt.scatter(-30,y)\n",
        "plt.plot([bot[0],-30,a],[bot[1],y,30])\n",
        "\n",
        "plt.plot([bot[0],a],[bot[1],30])\n",
        "plt.plot([bot[0],-a],[bot[1],30])"
      ],
      "execution_count": null,
      "outputs": [
        {
          "output_type": "execute_result",
          "data": {
            "text/plain": [
              "[<matplotlib.lines.Line2D at 0x7f087d09f550>]"
            ]
          },
          "metadata": {
            "tags": []
          },
          "execution_count": 139
        },
        {
          "output_type": "display_data",
          "data": {
            "image/png": "[encoded data removed]",
            "text/plain": [
              "<Figure size 432x288 with 1 Axes>"
            ]
          },
          "metadata": {
            "tags": [],
            "needs_background": "light"
          }
        }
      ]
    },
    {
      "cell_type": "markdown",
      "metadata": {
        "id": "uzfhpbjJwnAt",
        "colab_type": "text"
      },
      "source": [
        "### d)How does your answer for the optimal time change if the width of the goal increases, i.e. changes from (-3, 30), (3, 30) to (-a, 30), (a, 30), and everything else remains the same ?"
      ]
    },
    {
      "cell_type": "code",
      "metadata": {
        "id": "ze5cSsopwkb8",
        "colab_type": "code",
        "colab": {}
      },
      "source": [
        "ansX = 0\n",
        "ansY = 0\n",
        "a = 10\n",
        "for global_y in range(-29,28):\n",
        "    for x in range(0,30):\n",
        "        bot=(global_y,x)\n",
        "        first = angle(bot[0]-10,bot[1],bot[0],bot[1],a,30)\n",
        "        second = angle(bot[0]-10,bot[1],bot[0],bot[1],-a,30) \n",
        "        y = getBouncePoint(bot=bot,a=a)\n",
        "        y2 = getBouncePoint(bot=bot,a=-a)\n",
        "        a1 = (angle(bot[0]+10,bot[1],bot[0],bot[1],30,y))\n",
        "        a2 = (angle(bot[0]+10,bot[1],bot[0],bot[1],30,y2))\n",
        "        y = getBouncePoint(bot=bot,a=a,w=-30)\n",
        "        y2 = getBouncePoint(bot=bot,a=-a,w=-30)\n",
        "        b1 = (angle(bot[0]+10,bot[1],bot[0],bot[1],-30,y))\n",
        "        b2 = (angle(bot[0]+10,bot[1],bot[0],bot[1],-30,y2))\n",
        "        Angle = abs(second-first)+abs(a2-a1)+abs(b1-b2)\n",
        "        if(Angle>maxa):\n",
        "            maxa = Angle\n",
        "            ansX=x\n",
        "            ansY=global_y"
      ],
      "execution_count": null,
      "outputs": []
    },
    {
      "cell_type": "code",
      "metadata": {
        "id": "vvm5ktWZwwNn",
        "colab_type": "code",
        "colab": {
          "base_uri": "https://localhost:8080/",
          "height": 34
        },
        "outputId": "d3cd3d35-5632-406d-ee06-b3a5644b243d"
      },
      "source": [
        "print(\"Best coordinate for maximum probability is at(%d,%d)\"%(ansX,ansY),\"with probability %0.3f%% at a = 10\"%((maxa*100)/180))"
      ],
      "execution_count": null,
      "outputs": [
        {
          "output_type": "stream",
          "text": [
            "Best coordinate for maximum probability is at(29,0) with probability 94.019% at a = 10\n"
          ],
          "name": "stdout"
        }
      ]
    },
    {
      "cell_type": "code",
      "metadata": {
        "id": "ngFkDvP3w2eX",
        "colab_type": "code",
        "colab": {
          "base_uri": "https://localhost:8080/",
          "height": 282
        },
        "outputId": "9cfeb8fd-b46a-49a1-e9bd-baaf139e2c19"
      },
      "source": [
        "a = 10\n",
        "bot = (0,0)\n",
        "plotGoal(bot=bot,a=a)\n",
        "# plt.scatter(60-a,30)\n",
        "# plt.plot([60-a,bot[0]],[30,bot[1]])\n",
        "y = getBouncePoint(bot=bot,a=a)\n",
        "plt.scatter(30,y)\n",
        "plt.plot([bot[0],30,a],[bot[1],y,30])\n",
        "\n",
        "y = getBouncePoint(bot=bot,a=-a)\n",
        "plt.scatter(30,y)\n",
        "plt.plot([bot[0],30,-a],[bot[1],y,30])\n",
        "\n",
        "y = getBouncePoint(bot=bot,a=a,w=-30)\n",
        "plt.scatter(-30,y)\n",
        "plt.plot([bot[0],-30,-a],[bot[1],y,30])\n",
        "\n",
        "y = getBouncePoint(bot=bot,a=-a,w=-30)\n",
        "plt.scatter(-30,y)\n",
        "plt.plot([bot[0],-30,a],[bot[1],y,30])\n",
        "\n",
        "plt.plot([bot[0],a],[bot[1],30])\n",
        "plt.plot([bot[0],-a],[bot[1],30])"
      ],
      "execution_count": null,
      "outputs": [
        {
          "output_type": "execute_result",
          "data": {
            "text/plain": [
              "[<matplotlib.lines.Line2D at 0x7f087d031a90>]"
            ]
          },
          "metadata": {
            "tags": []
          },
          "execution_count": 142
        },
        {
          "output_type": "display_data",
          "data": {
            "image/png": "[encoded data removed]",
            "text/plain": [
              "<Figure size 432x288 with 1 Axes>"
            ]
          },
          "metadata": {
            "tags": [],
            "needs_background": "light"
          }
        }
      ]
    },
    {
      "cell_type": "markdown",
      "metadata": {
        "id": "sW5rnixZ0s_F",
        "colab_type": "text"
      },
      "source": [
        "### e) Consider that there is now a ‘defending’ robot in the form of a line. The ‘line’ of this defending robot extends from (-3, 15) to (3, 15). (bang in front of the (-3, 30) to (3, 30) goal). Now our attacking robot decides to shoot from. What is the range of y-values along the two walls that the robot should shoot the ball in to score?\n"
      ]
    },
    {
      "cell_type": "code",
      "metadata": {
        "id": "JqZoEHIN070f",
        "colab_type": "code",
        "colab": {
          "base_uri": "https://localhost:8080/",
          "height": 282
        },
        "outputId": "b9bf85c1-adad-473b-dee8-d98c308018d0"
      },
      "source": [
        "a = 3\n",
        "bot = (10,0)\n",
        "plotGoal(bot=bot,a=a)\n",
        "defender = plt.plot([-3,3],[15,15])\n",
        "\n",
        "# plt.scatter(60-a,30)\n",
        "# plt.plot([60-a,bot[0]],[30,bot[1]])\n",
        "y1 = y = getBouncePoint(bot=bot,a=a)\n",
        "plt.scatter(30,y)\n",
        "plt.plot([bot[0],30,a],[bot[1],y,30])\n",
        "\n",
        "y2 = y = getBouncePoint(bot=bot,a=-a)\n",
        "plt.scatter(30,y)\n",
        "plt.plot([bot[0],30,-a],[bot[1],y,30])\n",
        "\n",
        "y3 = y = getBouncePoint(bot=bot,a=a,w=-30)\n",
        "plt.scatter(-30,y)\n",
        "plt.plot([bot[0],-30,a],[bot[1],y,30])\n",
        "\n",
        "y4 = y = getBouncePoint(bot=bot,a=-a,w=-30)\n",
        "plt.scatter(-30,y)\n",
        "plt.plot([bot[0],-30,-a],[bot[1],y,30])\n",
        "\n",
        "plt.plot([bot[0],a],[bot[1],30])\n",
        "plt.plot([bot[0],-a],[bot[1],30])"
      ],
      "execution_count": null,
      "outputs": [
        {
          "output_type": "execute_result",
          "data": {
            "text/plain": [
              "[<matplotlib.lines.Line2D at 0x7f087c995710>]"
            ]
          },
          "metadata": {
            "tags": []
          },
          "execution_count": 156
        },
        {
          "output_type": "display_data",
          "data": {
            "image/png": "[encoded data removed]",
            "text/plain": [
              "<Figure size 432x288 with 1 Axes>"
            ]
          },
          "metadata": {
            "tags": [],
            "needs_background": "light"
          }
        }
      ]
    },
    {
      "cell_type": "code",
      "metadata": {
        "id": "idOZhygU18Ml",
        "colab_type": "code",
        "colab": {
          "base_uri": "https://localhost:8080/",
          "height": 85
        },
        "outputId": "4f80da5f-935e-48b4-8413-75ea30fe4df1"
      },
      "source": [
        "Range30=abs(y1-y2)\n",
        "RangeM30=abs(y3-y4)\n",
        "print(\"Range of y-values \\nalong left wall are from \"+str(y1)+\" to \"+str(y2)+\" and \\nalong right wall is from \"+str(y3)+\" to \"+str(y4)+\"\\nTotal \"+str(abs(y1-y2)+abs(y3-y4)))"
      ],
      "execution_count": null,
      "outputs": [
        {
          "output_type": "stream",
          "text": [
            "Range of y-values \n",
            "along left wall are from 12.765957446808512 to 11.320754716981133 and \n",
            "along right wall is from 25.53191489361702 to 22.641509433962263\n",
            "Total 4.335608189482137\n"
          ],
          "name": "stdout"
        }
      ]
    },
    {
      "cell_type": "markdown",
      "metadata": {
        "id": "j9C2tMFe5u8U",
        "colab_type": "text"
      },
      "source": [
        "### f) Can you create a simulation for the situation in part a with one modification - the user should be able to define a start coordinate for a robot along x - axis . Then an animation should run that shows the robot moving straight ahead from that point, shooting the ball at the optimal time, stopping and then printing the time."
      ]
    },
    {
      "cell_type": "code",
      "metadata": {
        "id": "UK7qSvD354c7",
        "colab_type": "code",
        "colab": {}
      },
      "source": [
        "## Can be made through representation of the points of the lines in the form of bezier curve, so we have 3 values\n",
        "## t,y,x where on putting t=0,1,2.. will give x and y values, thus no wasting brains on parametric lines.\n",
        "##----------\n",
        "## In python this can be done through moviepy (if any issues then ffmpeg) with frames as output images from \n",
        "## matplotlib"
      ],
      "execution_count": null,
      "outputs": []
    }
  ]
}